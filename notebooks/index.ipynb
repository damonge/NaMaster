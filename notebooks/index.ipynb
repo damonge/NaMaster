{
 "cells": [
  {
   "cell_type": "markdown",
   "metadata": {},
   "source": [
    "We illustrate the use of `pyMaster` through the notebooks below:"
   ]
  },
  {
   "cell_type": "markdown",
   "metadata": {},
   "source": [
    "1. [Simple pseudo-Cl computation](http://nbviewer.jupyter.org/github/daniellenz/NaMaster/tree/master/notebooks/simple_pseudo_Cl.ipynb)\n",
    "2. [Bandpowers](http://nbviewer.jupyter.org/github/daniellenz/NaMaster/tree/master/notebooks/bandpowers.ipynb)\n",
    "3. [Fields](http://nbviewer.jupyter.org/github/daniellenz/NaMaster/tree/master/notebooks/fields.ipynb)\n",
    "4. [Masks](http://nbviewer.jupyter.org/github/daniellenz/NaMaster/tree/master/notebooks/masks.ipynb)\n",
    "5. [Using workspaces](http://nbviewer.jupyter.org/github/daniellenz/NaMaster/tree/master/notebooks/workspaces.ipynb)\n",
    "6. [Pure E and B](http://nbviewer.jupyter.org/github/daniellenz/NaMaster/tree/master/notebooks/pure_E_and_B.ipynb)\n",
    "7. [Flat-sky fields](http://nbviewer.jupyter.org/github/daniellenz/NaMaster/tree/master/notebooks/flatfields.ipynb)\n",
    "8. [Computing covariance matrices](http://nbviewer.jupyter.org/github/daniellenz/NaMaster/tree/master/notebooks/covariance_matrices.ipynb)"
   ]
  }
 ],
 "metadata": {
  "kernelspec": {
   "display_name": "Python 2",
   "language": "python",
   "name": "python2"
  },
  "language_info": {
   "codemirror_mode": {
    "name": "ipython",
    "version": 2
   },
   "file_extension": ".py",
   "mimetype": "text/x-python",
   "name": "python",
   "nbconvert_exporter": "python",
   "pygments_lexer": "ipython2",
   "version": "2.7.13"
  },
  "toc": {
   "colors": {
    "hover_highlight": "#DAA520",
    "navigate_num": "#000000",
    "navigate_text": "#333333",
    "running_highlight": "#FF0000",
    "selected_highlight": "#FFD700",
    "sidebar_border": "#EEEEEE",
    "wrapper_background": "#FFFFFF"
   },
   "moveMenuLeft": true,
   "nav_menu": {
    "height": "12px",
    "width": "252px"
   },
   "navigate_menu": true,
   "number_sections": true,
   "sideBar": true,
   "threshold": 4,
   "toc_cell": false,
   "toc_section_display": "block",
   "toc_window_display": false,
   "widenNotebook": false
  }
 },
 "nbformat": 4,
 "nbformat_minor": 2
}
