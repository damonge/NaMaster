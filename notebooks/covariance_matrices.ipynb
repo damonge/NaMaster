{
 "cells": [
  {
   "cell_type": "markdown",
   "metadata": {},
   "source": [
    "This script showcases the ability of namaster to compute Gaussian estimates of the covariance matrix. This is currently only supported for spin-0 fields."
   ]
  },
  {
   "cell_type": "code",
   "execution_count": 1,
   "metadata": {
    "collapsed": true
   },
   "outputs": [],
   "source": [
    "%load_ext autoreload\n",
    "%autoreload 2\n",
    "%matplotlib inline\n",
    "%config InlineBackend.figure_format = 'retina'"
   ]
  },
  {
   "cell_type": "code",
   "execution_count": 3,
   "metadata": {
    "collapsed": true
   },
   "outputs": [],
   "source": [
    "from __future__ import print_function\n",
    "from __future__ import division\n",
    "\n",
    "import numpy as np\n",
    "import healpy as hp\n",
    "import matplotlib.pyplot as plt\n",
    "\n",
    "# Import the NaMaster python wrapper\n",
    "import pymaster as nmt"
   ]
  },
  {
   "cell_type": "code",
   "execution_count": 2,
   "metadata": {
    "collapsed": true
   },
   "outputs": [],
   "source": [
    "# HEALPix map resolution\n",
    "nside = 256"
   ]
  },
  {
   "cell_type": "markdown",
   "metadata": {},
   "source": [
    "We start by creating some synthetic masks and maps with contaminants.\n",
    "\n",
    "Here we will focus on the cross-correlation of a spin-2 and a spin-1 field. "
   ]
  },
  {
   "cell_type": "code",
   "execution_count": 4,
   "metadata": {
    "collapsed": true
   },
   "outputs": [],
   "source": [
    "# Read and apodize mask\n",
    "mask = nmt.mask_apodization(hp.read_map(\"../test/mask.fits\", verbose=False),\n",
    "    1.,\n",
    "    apotype=\"Smooth\")"
   ]
  },
  {
   "cell_type": "markdown",
   "metadata": {},
   "source": [
    "Let's now create a fictitious theoretical power spectrum to generate Gaussian realizations:"
   ]
  },
  {
   "cell_type": "code",
   "execution_count": 5,
   "metadata": {
    "collapsed": true
   },
   "outputs": [],
   "source": [
    "larr = np.arange(3 * nside)\n",
    "clarr = ((larr + 1.) / 80.)**(-1.1) + 1."
   ]
  },
  {
   "cell_type": "markdown",
   "metadata": {},
   "source": [
    "This routine generates a scalar Gaussian random field based on this power spectrum"
   ]
  },
  {
   "cell_type": "code",
   "execution_count": 6,
   "metadata": {
    "collapsed": true
   },
   "outputs": [],
   "source": [
    "def get_sample_field():\n",
    "    mp = hp.synfast(clarr, nside, verbose=False)\n",
    "    return nmt.NmtField(mask, [mp])"
   ]
  },
  {
   "cell_type": "code",
   "execution_count": null,
   "metadata": {
    "collapsed": true
   },
   "outputs": [],
   "source": [
    "We also copy this function from sample_workspaces.py. It computes power spectra given a pair of fields and a workspace."
   ]
  },
  {
   "cell_type": "code",
   "execution_count": 7,
   "metadata": {
    "collapsed": true
   },
   "outputs": [],
   "source": [
    "def compute_master(f_a, f_b, wsp) :\n",
    "    cl_coupled=nmt.compute_coupled_cell(f_a, f_b)\n",
    "    cl_decoupled=wsp.decouple_cell(cl_coupled)\n",
    "\n",
    "    return cl_decoupled"
   ]
  },
  {
   "cell_type": "code",
   "execution_count": 8,
   "metadata": {},
   "outputs": [
    {
     "name": "stdout",
     "output_type": "stream",
     "text": [
      "Field\n"
     ]
    }
   ],
   "source": [
    "# Let's generate one particular sample and its power spectrum.\n",
    "print(\"Field\")\n",
    "\n",
    "f0 = get_sample_field()\n",
    "b = nmt.NmtBin(nside, nlb=20) # We will use 20 multipoles per bandpower."
   ]
  },
  {
   "cell_type": "code",
   "execution_count": 9,
   "metadata": {},
   "outputs": [
    {
     "name": "stdout",
     "output_type": "stream",
     "text": [
      "Workspace\n"
     ]
    }
   ],
   "source": [
    "print(\"Workspace\")\n",
    "w = nmt.NmtWorkspace()\n",
    "w.compute_coupling_matrix(f0, f0, b)\n",
    "cl_0=compute_master(f0, f0, w)[0]"
   ]
  },
  {
   "cell_type": "code",
   "execution_count": 10,
   "metadata": {},
   "outputs": [
    {
     "name": "stdout",
     "output_type": "stream",
     "text": [
      "Covariance\n"
     ]
    }
   ],
   "source": [
    "# Let's now compute the gaussian estimate of the covariance!\n",
    "print(\"Covariance\")\n",
    "# First we generate a NmtCovarianceWorkspace object to precompute\n",
    "# and store the necessary coupling coefficients\n",
    "cw = nmt.NmtCovarianceWorkspace()\n",
    "cw.compute_coupling_coefficients(w, w) #<- This is the time-consuming operation\n",
    "covar = nmt.gaussian_covariance(cw, clarr, clarr, clarr, clarr)"
   ]
  },
  {
   "cell_type": "code",
   "execution_count": 11,
   "metadata": {},
   "outputs": [
    {
     "name": "stdout",
     "output_type": "stream",
     "text": [
      "Sample covariance\n",
      "0\n",
      "1\n",
      "2\n",
      "3\n",
      "4\n",
      "5\n",
      "6\n",
      "7\n",
      "8\n",
      "9\n",
      "10\n",
      "11\n",
      "12\n",
      "13\n",
      "14\n",
      "15\n",
      "16\n",
      "17\n",
      "18\n",
      "19\n",
      "20\n",
      "21\n",
      "22\n",
      "23\n",
      "24\n",
      "25\n",
      "26\n",
      "27\n",
      "28\n",
      "29\n",
      "30\n",
      "31\n",
      "32\n",
      "33\n",
      "34\n",
      "35\n",
      "36\n",
      "37\n",
      "38\n",
      "39\n",
      "40\n",
      "41\n",
      "42\n",
      "43\n",
      "44\n",
      "45\n",
      "46\n",
      "47\n",
      "48\n",
      "49\n",
      "50\n",
      "51\n",
      "52\n",
      "53\n",
      "54\n",
      "55\n",
      "56\n",
      "57\n",
      "58\n",
      "59\n",
      "60\n",
      "61\n",
      "62\n",
      "63\n",
      "64\n",
      "65\n",
      "66\n",
      "67\n",
      "68\n",
      "69\n",
      "70\n",
      "71\n",
      "72\n",
      "73\n",
      "74\n",
      "75\n",
      "76\n",
      "77\n",
      "78\n",
      "79\n",
      "80\n",
      "81\n",
      "82\n",
      "83\n",
      "84\n",
      "85\n",
      "86\n",
      "87\n",
      "88\n",
      "89\n",
      "90\n",
      "91\n",
      "92\n",
      "93\n",
      "94\n",
      "95\n",
      "96\n",
      "97\n",
      "98\n",
      "99\n"
     ]
    }
   ],
   "source": [
    "# Let's now compute the sample covariance\n",
    "print(\"Sample covariance\")\n",
    "nsamp = 100\n",
    "covar_sample=np.zeros([len(cl_0), len(cl_0)])\n",
    "mean_sample=np.zeros(len(cl_0))\n",
    "for i in np.arange(nsamp):\n",
    "    print(i)\n",
    "    f = get_sample_field()\n",
    "    cl = compute_master(f, f, w)[0]\n",
    "    covar_sample += cl[None, :] * cl[:, None]\n",
    "    mean_sample += cl\n",
    "mean_sample /= nsamp\n",
    "covar_sample = covar_sample / nsamp - mean_sample[None, :] * mean_sample[:, None]"
   ]
  },
  {
   "cell_type": "code",
   "execution_count": 16,
   "metadata": {},
   "outputs": [
    {
     "data": {
      "text/plain": [
       "array([[  6.74524486e+00,  -2.78705160e-01,   4.00089052e-03, ...,\n",
       "         -1.18651358e-10,  -1.19256490e-10,  -1.10741151e-10],\n",
       "       [ -2.78705160e-01,   9.01625357e-02,  -3.08200977e-03, ...,\n",
       "          1.03428951e-12,   1.28256525e-12,   1.96226940e-12],\n",
       "       [  4.00089052e-03,  -3.08200977e-03,   2.16183271e-02, ...,\n",
       "         -1.67770535e-12,  -1.26937560e-12,  -1.05790002e-12],\n",
       "       ..., \n",
       "       [ -1.18651358e-10,   1.03428951e-12,  -1.67770535e-12, ...,\n",
       "          2.66495729e-04,  -1.24516921e-05,   1.17211836e-07],\n",
       "       [ -1.19256490e-10,   1.28256525e-12,  -1.26937560e-12, ...,\n",
       "         -1.24516921e-05,   2.57927903e-04,  -1.20516589e-05],\n",
       "       [ -1.10741151e-10,   1.96226940e-12,  -1.05790002e-12, ...,\n",
       "          1.17211836e-07,  -1.20516589e-05,   2.49324378e-04]])"
      ]
     },
     "execution_count": 16,
     "metadata": {},
     "output_type": "execute_result"
    }
   ],
   "source": [
    "covar"
   ]
  },
  {
   "cell_type": "code",
   "execution_count": 17,
   "metadata": {},
   "outputs": [
    {
     "data": {
      "text/plain": [
       "<matplotlib.image.AxesImage at 0x11eac32d0>"
      ]
     },
     "execution_count": 17,
     "metadata": {},
     "output_type": "execute_result"
    },
    {
     "data": {
      "image/png": "[encoded data removed]",
      "text/plain": [
       "<matplotlib.figure.Figure at 0x11e8bf590>"
      ]
     },
     "metadata": {
      "image/png": {
       "height": 250,
       "width": 253
      }
     },
     "output_type": "display_data"
    }
   ],
   "source": [
    "# Let's plot them:\n",
    "plt.figure()\n",
    "plt.imshow(np.log10(np.abs(covar)), origin='lower', interpolation='nearest')"
   ]
  },
  {
   "cell_type": "code",
   "execution_count": 18,
   "metadata": {},
   "outputs": [
    {
     "data": {
      "text/plain": [
       "<matplotlib.image.AxesImage at 0x11ece78d0>"
      ]
     },
     "execution_count": 18,
     "metadata": {},
     "output_type": "execute_result"
    },
    {
     "data": {
      "image/png": "[encoded data removed]",
      "text/plain": [
       "<matplotlib.figure.Figure at 0x11ead1a50>"
      ]
     },
     "metadata": {
      "image/png": {
       "height": 250,
       "width": 253
      }
     },
     "output_type": "display_data"
    }
   ],
   "source": [
    "plt.figure()\n",
    "plt.imshow(np.log10(np.abs(covar_sample)), origin='lower', interpolation='nearest')"
   ]
  },
  {
   "cell_type": "code",
   "execution_count": 19,
   "metadata": {},
   "outputs": [
    {
     "data": {
      "text/plain": [
       "<matplotlib.image.AxesImage at 0x11ef0bbd0>"
      ]
     },
     "execution_count": 19,
     "metadata": {},
     "output_type": "execute_result"
    },
    {
     "data": {
      "image/png": "[encoded data removed]",
      "text/plain": [
       "<matplotlib.figure.Figure at 0x11ed157d0>"
      ]
     },
     "metadata": {
      "image/png": {
       "height": 250,
       "width": 253
      }
     },
     "output_type": "display_data"
    }
   ],
   "source": [
    "plt.figure()\n",
    "plt.imshow(np.log10(np.abs(covar-covar_sample)), origin='lower', interpolation='nearest')"
   ]
  }
 ],
 "metadata": {
  "kernelspec": {
   "display_name": "Python 2",
   "language": "python",
   "name": "python2"
  },
  "language_info": {
   "codemirror_mode": {
    "name": "ipython",
    "version": 2
   },
   "file_extension": ".py",
   "mimetype": "text/x-python",
   "name": "python",
   "nbconvert_exporter": "python",
   "pygments_lexer": "ipython2",
   "version": "2.7.13"
  },
  "toc": {
   "colors": {
    "hover_highlight": "#DAA520",
    "navigate_num": "#000000",
    "navigate_text": "#333333",
    "running_highlight": "#FF0000",
    "selected_highlight": "#FFD700",
    "sidebar_border": "#EEEEEE",
    "wrapper_background": "#FFFFFF"
   },
   "moveMenuLeft": true,
   "nav_menu": {
    "height": "12px",
    "width": "252px"
   },
   "navigate_menu": true,
   "number_sections": true,
   "sideBar": true,
   "threshold": 4,
   "toc_cell": false,
   "toc_section_display": "block",
   "toc_window_display": false,
   "widenNotebook": false
  }
 },
 "nbformat": 4,
 "nbformat_minor": 2
}
