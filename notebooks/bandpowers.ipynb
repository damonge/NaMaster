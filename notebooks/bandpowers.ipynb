{
 "cells": [
  {
   "cell_type": "markdown",
   "metadata": {},
   "source": [
    "This script showcases the use of the `NmtBin()` structure to define bandpowers."
   ]
  },
  {
   "cell_type": "code",
   "execution_count": 1,
   "metadata": {
    "collapsed": true
   },
   "outputs": [],
   "source": [
    "%load_ext autoreload\n",
    "%autoreload 2\n",
    "%matplotlib inline\n",
    "%config InlineBackend.figure_format = 'retina'"
   ]
  },
  {
   "cell_type": "code",
   "execution_count": 7,
   "metadata": {
    "collapsed": true
   },
   "outputs": [],
   "source": [
    "from __future__ import print_function\n",
    "from __future__ import division\n",
    "\n",
    "import numpy as np\n",
    "import healpy as hp\n",
    "import matplotlib.pyplot as plt\n",
    "\n",
    "# Import the NaMaster python wrapper\n",
    "import pymaster as nmt"
   ]
  },
  {
   "cell_type": "code",
   "execution_count": 3,
   "metadata": {
    "collapsed": true
   },
   "outputs": [],
   "source": [
    "# HEALPix map resolution\n",
    "nside = 256"
   ]
  },
  {
   "cell_type": "markdown",
   "metadata": {},
   "source": [
    "Initialize binning scheme with bandpowers of constant width (4 multipoles per bin)."
   ]
  },
  {
   "cell_type": "code",
   "execution_count": 4,
   "metadata": {
    "collapsed": true
   },
   "outputs": [],
   "source": [
    "bin1 = nmt.NmtBin(nside, nlb=4)"
   ]
  },
  {
   "cell_type": "markdown",
   "metadata": {},
   "source": [
    "Initialize binning scheme with custom-made bandpowers. In this case we simply manually choose these bandpowers to also have 4 multipoles per bin."
   ]
  },
  {
   "cell_type": "code",
   "execution_count": 5,
   "metadata": {},
   "outputs": [
    {
     "name": "stderr",
     "output_type": "stream",
     "text": [
      "/Users/dlenz/anaconda/envs/py27/lib/python2.7/site-packages/pymaster/bins.py:15: FutureWarning: comparison to `None` will result in an elementwise object comparison in the future.\n",
      "  if((bpws==None) and (ells==None) and (weights==None) and (nlb==None)) :\n",
      "/Users/dlenz/anaconda/envs/py27/lib/python2.7/site-packages/pymaster/bins.py:19: FutureWarning: comparison to `None` will result in an elementwise object comparison in the future.\n",
      "  if((bpws==None) and (ells==None) and (weights==None)) :\n"
     ]
    }
   ],
   "source": [
    "ells = np.arange(3 * nside, dtype='int32') # Array of multipoles\n",
    "weights = 0.25 * np.ones_like(ells) # Array of weights\n",
    "bpws = -1 + np.zeros_like(ells) # Array of bandpower indices\n",
    "\n",
    "i = 0\n",
    "while 4 * (i + 1) + 2 < (3 * nside):\n",
    "    bpws[4 * i + 2:4 * (i + 1) + 2] = i\n",
    "    i += 1\n",
    "\n",
    "bin2 = nmt.NmtBin(nside, bpws=bpws, ells=ells, weights=weights)"
   ]
  },
  {
   "cell_type": "code",
   "execution_count": 9,
   "metadata": {},
   "outputs": [
    {
     "name": "stdout",
     "output_type": "stream",
     "text": [
      "0.0\n"
     ]
    }
   ],
   "source": [
    "# At this stage bin1 and bin2 should be identical\n",
    "print(np.sum(bin1.get_effective_ells() - bin2.get_effective_ells()))"
   ]
  },
  {
   "cell_type": "code",
   "execution_count": 10,
   "metadata": {
    "collapsed": true
   },
   "outputs": [],
   "source": [
    "# Array with effective multipole per bandpower\n",
    "ell_eff = bin1.get_effective_ells()"
   ]
  },
  {
   "cell_type": "code",
   "execution_count": 13,
   "metadata": {
    "scrolled": false
   },
   "outputs": [
    {
     "name": "stdout",
     "output_type": "stream",
     "text": [
      "Bandpower info:\n",
      "191 bandpowers\n",
      "The columns in the following table are:\n",
      " [1]-band index, [2]-list of multipoles, [3]-list of weights, [4]=effective multipole\n",
      "0 [2 3 4 5] [ 0.25  0.25  0.25  0.25] 3.5\n",
      "1 [6 7 8 9] [ 0.25  0.25  0.25  0.25] 7.5\n",
      "2 [10 11 12 13] [ 0.25  0.25  0.25  0.25] 11.5\n",
      "3 [14 15 16 17] [ 0.25  0.25  0.25  0.25] 15.5\n",
      "4 [18 19 20 21] [ 0.25  0.25  0.25  0.25] 19.5\n",
      "5 [22 23 24 25] [ 0.25  0.25  0.25  0.25] 23.5\n",
      "6 [26 27 28 29] [ 0.25  0.25  0.25  0.25] 27.5\n",
      "7 [30 31 32 33] [ 0.25  0.25  0.25  0.25] 31.5\n",
      "8 [34 35 36 37] [ 0.25  0.25  0.25  0.25] 35.5\n",
      "9 [38 39 40 41] [ 0.25  0.25  0.25  0.25] 39.5\n",
      "10 [42 43 44 45] [ 0.25  0.25  0.25  0.25] 43.5\n",
      "11 [46 47 48 49] [ 0.25  0.25  0.25  0.25] 47.5\n",
      "12 [50 51 52 53] [ 0.25  0.25  0.25  0.25] 51.5\n",
      "13 [54 55 56 57] [ 0.25  0.25  0.25  0.25] 55.5\n",
      "14 [58 59 60 61] [ 0.25  0.25  0.25  0.25] 59.5\n",
      "15 [62 63 64 65] [ 0.25  0.25  0.25  0.25] 63.5\n",
      "16 [66 67 68 69] [ 0.25  0.25  0.25  0.25] 67.5\n",
      "17 [70 71 72 73] [ 0.25  0.25  0.25  0.25] 71.5\n",
      "18 [74 75 76 77] [ 0.25  0.25  0.25  0.25] 75.5\n",
      "19 [78 79 80 81] [ 0.25  0.25  0.25  0.25] 79.5\n",
      "20 [82 83 84 85] [ 0.25  0.25  0.25  0.25] 83.5\n",
      "21 [86 87 88 89] [ 0.25  0.25  0.25  0.25] 87.5\n",
      "22 [90 91 92 93] [ 0.25  0.25  0.25  0.25] 91.5\n",
      "23 [94 95 96 97] [ 0.25  0.25  0.25  0.25] 95.5\n",
      "24 [ 98  99 100 101] [ 0.25  0.25  0.25  0.25] 99.5\n",
      "25 [102 103 104 105] [ 0.25  0.25  0.25  0.25] 103.5\n",
      "26 [106 107 108 109] [ 0.25  0.25  0.25  0.25] 107.5\n",
      "27 [110 111 112 113] [ 0.25  0.25  0.25  0.25] 111.5\n",
      "28 [114 115 116 117] [ 0.25  0.25  0.25  0.25] 115.5\n",
      "29 [118 119 120 121] [ 0.25  0.25  0.25  0.25] 119.5\n",
      "30 [122 123 124 125] [ 0.25  0.25  0.25  0.25] 123.5\n",
      "31 [126 127 128 129] [ 0.25  0.25  0.25  0.25] 127.5\n",
      "32 [130 131 132 133] [ 0.25  0.25  0.25  0.25] 131.5\n",
      "33 [134 135 136 137] [ 0.25  0.25  0.25  0.25] 135.5\n",
      "34 [138 139 140 141] [ 0.25  0.25  0.25  0.25] 139.5\n",
      "35 [142 143 144 145] [ 0.25  0.25  0.25  0.25] 143.5\n",
      "36 [146 147 148 149] [ 0.25  0.25  0.25  0.25] 147.5\n",
      "37 [150 151 152 153] [ 0.25  0.25  0.25  0.25] 151.5\n",
      "38 [154 155 156 157] [ 0.25  0.25  0.25  0.25] 155.5\n",
      "39 [158 159 160 161] [ 0.25  0.25  0.25  0.25] 159.5\n",
      "40 [162 163 164 165] [ 0.25  0.25  0.25  0.25] 163.5\n",
      "41 [166 167 168 169] [ 0.25  0.25  0.25  0.25] 167.5\n",
      "42 [170 171 172 173] [ 0.25  0.25  0.25  0.25] 171.5\n",
      "43 [174 175 176 177] [ 0.25  0.25  0.25  0.25] 175.5\n",
      "44 [178 179 180 181] [ 0.25  0.25  0.25  0.25] 179.5\n",
      "45 [182 183 184 185] [ 0.25  0.25  0.25  0.25] 183.5\n",
      "46 [186 187 188 189] [ 0.25  0.25  0.25  0.25] 187.5\n",
      "47 [190 191 192 193] [ 0.25  0.25  0.25  0.25] 191.5\n",
      "48 [194 195 196 197] [ 0.25  0.25  0.25  0.25] 195.5\n",
      "49 [198 199 200 201] [ 0.25  0.25  0.25  0.25] 199.5\n",
      "50 [202 203 204 205] [ 0.25  0.25  0.25  0.25] 203.5\n",
      "51 [206 207 208 209] [ 0.25  0.25  0.25  0.25] 207.5\n",
      "52 [210 211 212 213] [ 0.25  0.25  0.25  0.25] 211.5\n",
      "53 [214 215 216 217] [ 0.25  0.25  0.25  0.25] 215.5\n",
      "54 [218 219 220 221] [ 0.25  0.25  0.25  0.25] 219.5\n",
      "55 [222 223 224 225] [ 0.25  0.25  0.25  0.25] 223.5\n",
      "56 [226 227 228 229] [ 0.25  0.25  0.25  0.25] 227.5\n",
      "57 [230 231 232 233] [ 0.25  0.25  0.25  0.25] 231.5\n",
      "58 [234 235 236 237] [ 0.25  0.25  0.25  0.25] 235.5\n",
      "59 [238 239 240 241] [ 0.25  0.25  0.25  0.25] 239.5\n",
      "60 [242 243 244 245] [ 0.25  0.25  0.25  0.25] 243.5\n",
      "61 [246 247 248 249] [ 0.25  0.25  0.25  0.25] 247.5\n",
      "62 [250 251 252 253] [ 0.25  0.25  0.25  0.25] 251.5\n",
      "63 [254 255 256 257] [ 0.25  0.25  0.25  0.25] 255.5\n",
      "64 [258 259 260 261] [ 0.25  0.25  0.25  0.25] 259.5\n",
      "65 [262 263 264 265] [ 0.25  0.25  0.25  0.25] 263.5\n",
      "66 [266 267 268 269] [ 0.25  0.25  0.25  0.25] 267.5\n",
      "67 [270 271 272 273] [ 0.25  0.25  0.25  0.25] 271.5\n",
      "68 [274 275 276 277] [ 0.25  0.25  0.25  0.25] 275.5\n",
      "69 [278 279 280 281] [ 0.25  0.25  0.25  0.25] 279.5\n",
      "70 [282 283 284 285] [ 0.25  0.25  0.25  0.25] 283.5\n",
      "71 [286 287 288 289] [ 0.25  0.25  0.25  0.25] 287.5\n",
      "72 [290 291 292 293] [ 0.25  0.25  0.25  0.25] 291.5\n",
      "73 [294 295 296 297] [ 0.25  0.25  0.25  0.25] 295.5\n",
      "74 [298 299 300 301] [ 0.25  0.25  0.25  0.25] 299.5\n",
      "75 [302 303 304 305] [ 0.25  0.25  0.25  0.25] 303.5\n",
      "76 [306 307 308 309] [ 0.25  0.25  0.25  0.25] 307.5\n",
      "77 [310 311 312 313] [ 0.25  0.25  0.25  0.25] 311.5\n",
      "78 [314 315 316 317] [ 0.25  0.25  0.25  0.25] 315.5\n",
      "79 [318 319 320 321] [ 0.25  0.25  0.25  0.25] 319.5\n",
      "80 [322 323 324 325] [ 0.25  0.25  0.25  0.25] 323.5\n",
      "81 [326 327 328 329] [ 0.25  0.25  0.25  0.25] 327.5\n",
      "82 [330 331 332 333] [ 0.25  0.25  0.25  0.25] 331.5\n",
      "83 [334 335 336 337] [ 0.25  0.25  0.25  0.25] 335.5\n",
      "84 [338 339 340 341] [ 0.25  0.25  0.25  0.25] 339.5\n",
      "85 [342 343 344 345] [ 0.25  0.25  0.25  0.25] 343.5\n",
      "86 [346 347 348 349] [ 0.25  0.25  0.25  0.25] 347.5\n",
      "87 [350 351 352 353] [ 0.25  0.25  0.25  0.25] 351.5\n",
      "88 [354 355 356 357] [ 0.25  0.25  0.25  0.25] 355.5\n",
      "89 [358 359 360 361] [ 0.25  0.25  0.25  0.25] 359.5\n",
      "90 [362 363 364 365] [ 0.25  0.25  0.25  0.25] 363.5\n",
      "91 [366 367 368 369] [ 0.25  0.25  0.25  0.25] 367.5\n",
      "92 [370 371 372 373] [ 0.25  0.25  0.25  0.25] 371.5\n",
      "93 [374 375 376 377] [ 0.25  0.25  0.25  0.25] 375.5\n",
      "94 [378 379 380 381] [ 0.25  0.25  0.25  0.25] 379.5\n",
      "95 [382 383 384 385] [ 0.25  0.25  0.25  0.25] 383.5\n",
      "96 [386 387 388 389] [ 0.25  0.25  0.25  0.25] 387.5\n",
      "97 [390 391 392 393] [ 0.25  0.25  0.25  0.25] 391.5\n",
      "98 [394 395 396 397] [ 0.25  0.25  0.25  0.25] 395.5\n",
      "99 [398 399 400 401] [ 0.25  0.25  0.25  0.25] 399.5\n",
      "100 [402 403 404 405] [ 0.25  0.25  0.25  0.25] 403.5\n",
      "101 [406 407 408 409] [ 0.25  0.25  0.25  0.25] 407.5\n",
      "102 [410 411 412 413] [ 0.25  0.25  0.25  0.25] 411.5\n",
      "103 [414 415 416 417] [ 0.25  0.25  0.25  0.25] 415.5\n",
      "104 [418 419 420 421] [ 0.25  0.25  0.25  0.25] 419.5\n",
      "105 [422 423 424 425] [ 0.25  0.25  0.25  0.25] 423.5\n",
      "106 [426 427 428 429] [ 0.25  0.25  0.25  0.25] 427.5\n",
      "107 [430 431 432 433] [ 0.25  0.25  0.25  0.25] 431.5\n",
      "108 [434 435 436 437] [ 0.25  0.25  0.25  0.25] 435.5\n",
      "109 [438 439 440 441] [ 0.25  0.25  0.25  0.25] 439.5\n",
      "110 [442 443 444 445] [ 0.25  0.25  0.25  0.25] 443.5\n",
      "111 [446 447 448 449] [ 0.25  0.25  0.25  0.25] 447.5\n",
      "112 [450 451 452 453] [ 0.25  0.25  0.25  0.25] 451.5\n",
      "113 [454 455 456 457] [ 0.25  0.25  0.25  0.25] 455.5\n",
      "114 [458 459 460 461] [ 0.25  0.25  0.25  0.25] 459.5\n",
      "115 [462 463 464 465] [ 0.25  0.25  0.25  0.25] 463.5\n",
      "116 [466 467 468 469] [ 0.25  0.25  0.25  0.25] 467.5\n",
      "117 [470 471 472 473] [ 0.25  0.25  0.25  0.25] 471.5\n",
      "118 [474 475 476 477] [ 0.25  0.25  0.25  0.25] 475.5\n",
      "119 [478 479 480 481] [ 0.25  0.25  0.25  0.25] 479.5\n",
      "120 [482 483 484 485] [ 0.25  0.25  0.25  0.25] 483.5\n",
      "121 [486 487 488 489] [ 0.25  0.25  0.25  0.25] 487.5\n",
      "122 [490 491 492 493] [ 0.25  0.25  0.25  0.25] 491.5\n",
      "123 [494 495 496 497] [ 0.25  0.25  0.25  0.25] 495.5\n",
      "124 [498 499 500 501] [ 0.25  0.25  0.25  0.25] 499.5\n",
      "125 [502 503 504 505] [ 0.25  0.25  0.25  0.25] 503.5\n",
      "126 [506 507 508 509] [ 0.25  0.25  0.25  0.25] 507.5\n",
      "127 [510 511 512 513] [ 0.25  0.25  0.25  0.25] 511.5\n",
      "128 [514 515 516 517] [ 0.25  0.25  0.25  0.25] 515.5\n",
      "129 [518 519 520 521] [ 0.25  0.25  0.25  0.25] 519.5\n",
      "130 [522 523 524 525] [ 0.25  0.25  0.25  0.25] 523.5\n",
      "131 [526 527 528 529] [ 0.25  0.25  0.25  0.25] 527.5\n",
      "132 [530 531 532 533] [ 0.25  0.25  0.25  0.25] 531.5\n",
      "133 [534 535 536 537] [ 0.25  0.25  0.25  0.25] 535.5\n",
      "134 [538 539 540 541] [ 0.25  0.25  0.25  0.25] 539.5\n",
      "135 [542 543 544 545] [ 0.25  0.25  0.25  0.25] 543.5\n",
      "136 [546 547 548 549] [ 0.25  0.25  0.25  0.25] 547.5\n",
      "137 [550 551 552 553] [ 0.25  0.25  0.25  0.25] 551.5\n",
      "138 [554 555 556 557] [ 0.25  0.25  0.25  0.25] 555.5\n",
      "139 [558 559 560 561] [ 0.25  0.25  0.25  0.25] 559.5\n",
      "140 [562 563 564 565] [ 0.25  0.25  0.25  0.25] 563.5\n",
      "141 [566 567 568 569] [ 0.25  0.25  0.25  0.25] 567.5\n",
      "142 [570 571 572 573] [ 0.25  0.25  0.25  0.25] 571.5\n",
      "143 [574 575 576 577] [ 0.25  0.25  0.25  0.25] 575.5\n",
      "144 [578 579 580 581] [ 0.25  0.25  0.25  0.25] 579.5\n",
      "145 [582 583 584 585] [ 0.25  0.25  0.25  0.25] 583.5\n",
      "146 [586 587 588 589] [ 0.25  0.25  0.25  0.25] 587.5\n",
      "147 [590 591 592 593] [ 0.25  0.25  0.25  0.25] 591.5\n",
      "148 [594 595 596 597] [ 0.25  0.25  0.25  0.25] 595.5\n",
      "149 [598 599 600 601] [ 0.25  0.25  0.25  0.25] 599.5\n",
      "150 [602 603 604 605] [ 0.25  0.25  0.25  0.25] 603.5\n",
      "151 [606 607 608 609] [ 0.25  0.25  0.25  0.25] 607.5\n",
      "152 [610 611 612 613] [ 0.25  0.25  0.25  0.25] 611.5\n",
      "153 [614 615 616 617] [ 0.25  0.25  0.25  0.25] 615.5\n",
      "154 [618 619 620 621] [ 0.25  0.25  0.25  0.25] 619.5\n",
      "155 [622 623 624 625] [ 0.25  0.25  0.25  0.25] 623.5\n",
      "156 [626 627 628 629] [ 0.25  0.25  0.25  0.25] 627.5\n",
      "157 [630 631 632 633] [ 0.25  0.25  0.25  0.25] 631.5\n",
      "158 [634 635 636 637] [ 0.25  0.25  0.25  0.25] 635.5\n",
      "159 [638 639 640 641] [ 0.25  0.25  0.25  0.25] 639.5\n",
      "160 [642 643 644 645] [ 0.25  0.25  0.25  0.25] 643.5\n",
      "161 [646 647 648 649] [ 0.25  0.25  0.25  0.25] 647.5\n",
      "162 [650 651 652 653] [ 0.25  0.25  0.25  0.25] 651.5\n",
      "163 [654 655 656 657] [ 0.25  0.25  0.25  0.25] 655.5\n",
      "164 [658 659 660 661] [ 0.25  0.25  0.25  0.25] 659.5\n",
      "165 [662 663 664 665] [ 0.25  0.25  0.25  0.25] 663.5\n",
      "166 [666 667 668 669] [ 0.25  0.25  0.25  0.25] 667.5\n",
      "167 [670 671 672 673] [ 0.25  0.25  0.25  0.25] 671.5\n",
      "168 [674 675 676 677] [ 0.25  0.25  0.25  0.25] 675.5\n",
      "169 [678 679 680 681] [ 0.25  0.25  0.25  0.25] 679.5\n",
      "170 [682 683 684 685] [ 0.25  0.25  0.25  0.25] 683.5\n",
      "171 [686 687 688 689] [ 0.25  0.25  0.25  0.25] 687.5\n",
      "172 [690 691 692 693] [ 0.25  0.25  0.25  0.25] 691.5\n",
      "173 [694 695 696 697] [ 0.25  0.25  0.25  0.25] 695.5\n",
      "174 [698 699 700 701] [ 0.25  0.25  0.25  0.25] 699.5\n",
      "175 [702 703 704 705] [ 0.25  0.25  0.25  0.25] 703.5\n",
      "176 [706 707 708 709] [ 0.25  0.25  0.25  0.25] 707.5\n",
      "177 [710 711 712 713] [ 0.25  0.25  0.25  0.25] 711.5\n",
      "178 [714 715 716 717] [ 0.25  0.25  0.25  0.25] 715.5\n",
      "179 [718 719 720 721] [ 0.25  0.25  0.25  0.25] 719.5\n",
      "180 [722 723 724 725] [ 0.25  0.25  0.25  0.25] 723.5\n",
      "181 [726 727 728 729] [ 0.25  0.25  0.25  0.25] 727.5\n",
      "182 [730 731 732 733] [ 0.25  0.25  0.25  0.25] 731.5\n",
      "183 [734 735 736 737] [ 0.25  0.25  0.25  0.25] 735.5\n",
      "184 [738 739 740 741] [ 0.25  0.25  0.25  0.25] 739.5\n",
      "185 [742 743 744 745] [ 0.25  0.25  0.25  0.25] 743.5\n",
      "186 [746 747 748 749] [ 0.25  0.25  0.25  0.25] 747.5\n",
      "187 [750 751 752 753] [ 0.25  0.25  0.25  0.25] 751.5\n",
      "188 [754 755 756 757] [ 0.25  0.25  0.25  0.25] 755.5\n",
      "189 [758 759 760 761] [ 0.25  0.25  0.25  0.25] 759.5\n",
      "190 [762 763 764 765] [ 0.25  0.25  0.25  0.25] 763.5\n",
      "\n"
     ]
    }
   ],
   "source": [
    "#Bandpower info:\n",
    "print(\"Bandpower info:\")\n",
    "print(\"{} bandpowers\".format(bin1.get_n_bands()))\n",
    "print(\"The columns in the following table are:\")\n",
    "print(\"[1]-band index, [2]-list of multipoles, [3]-list of weights, [4]=effective multipole\")\n",
    "for i in np.arange(bin1.get_n_bands()) :\n",
    "    print(i, bin1.get_ell_list(i), bin1.get_weight_list(i), ell_eff[i])\n",
    "print(\"\")"
   ]
  },
  {
   "cell_type": "markdown",
   "metadata": {},
   "source": [
    "We now demonstrate this binning for a power spectrum"
   ]
  },
  {
   "cell_type": "code",
   "execution_count": 14,
   "metadata": {
    "collapsed": true
   },
   "outputs": [],
   "source": [
    "# Read the TT power spectrum\n",
    "data = np.loadtxt(\"../test/cls.txt\", unpack=True)\n",
    "ell_arr = data[0]\n",
    "cl_tt = data[1]"
   ]
  },
  {
   "cell_type": "code",
   "execution_count": 16,
   "metadata": {
    "collapsed": true
   },
   "outputs": [],
   "source": [
    "# Bin the power spectrum into bandpowers\n",
    "cl_tt_binned = bin1.bin_cell([cl_tt])"
   ]
  },
  {
   "cell_type": "code",
   "execution_count": 17,
   "metadata": {
    "collapsed": true
   },
   "outputs": [],
   "source": [
    "# Unbin bandpowers\n",
    "cl_tt_binned_unbinned = bin1.unbin_cell(cl_tt_binned)"
   ]
  },
  {
   "cell_type": "code",
   "execution_count": 19,
   "metadata": {},
   "outputs": [
    {
     "data": {
      "image/png": "[encoded data removed]",
      "text/plain": [
       "<matplotlib.figure.Figure at 0x1125edcd0>"
      ]
     },
     "metadata": {
      "image/png": {
       "height": 251,
       "width": 385
      }
     },
     "output_type": "display_data"
    }
   ],
   "source": [
    "# Plot all to see differences\n",
    "plt.plot(ell_arr, cl_tt, 'r-', label='Original $C_\\\\ell$')\n",
    "plt.plot(ell_eff, cl_tt_binned[0],'g-', label='Binned $C_\\\\ell$')\n",
    "plt.plot(ell_arr, cl_tt_binned_unbinned[0], 'b-', label='Binned-unbinned $C_\\\\ell$')\n",
    "plt.loglog()\n",
    "\n",
    "plt.legend(loc='upper right', frameon=False);"
   ]
  }
 ],
 "metadata": {
  "kernelspec": {
   "display_name": "Python 2",
   "language": "python",
   "name": "python2"
  },
  "language_info": {
   "codemirror_mode": {
    "name": "ipython",
    "version": 2
   },
   "file_extension": ".py",
   "mimetype": "text/x-python",
   "name": "python",
   "nbconvert_exporter": "python",
   "pygments_lexer": "ipython2",
   "version": "2.7.13"
  },
  "toc": {
   "colors": {
    "hover_highlight": "#DAA520",
    "navigate_num": "#000000",
    "navigate_text": "#333333",
    "running_highlight": "#FF0000",
    "selected_highlight": "#FFD700",
    "sidebar_border": "#EEEEEE",
    "wrapper_background": "#FFFFFF"
   },
   "moveMenuLeft": true,
   "nav_menu": {
    "height": "12px",
    "width": "252px"
   },
   "navigate_menu": true,
   "number_sections": true,
   "sideBar": true,
   "threshold": 4,
   "toc_cell": false,
   "toc_section_display": "block",
   "toc_window_display": false,
   "widenNotebook": false
  }
 },
 "nbformat": 4,
 "nbformat_minor": 2
}
