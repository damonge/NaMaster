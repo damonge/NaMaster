{
 "cells": [
  {
   "cell_type": "markdown",
   "metadata": {},
   "source": [
    "This script describes the computation of polarized power spectra using the pure-E and B approach."
   ]
  },
  {
   "cell_type": "code",
   "execution_count": 1,
   "metadata": {
    "collapsed": true
   },
   "outputs": [],
   "source": [
    "%load_ext autoreload\n",
    "%autoreload 2\n",
    "%matplotlib inline\n",
    "%config InlineBackend.figure_format = 'retina'"
   ]
  },
  {
   "cell_type": "code",
   "execution_count": 2,
   "metadata": {
    "collapsed": true
   },
   "outputs": [],
   "source": [
    "from __future__ import print_function\n",
    "from __future__ import division\n",
    "\n",
    "import numpy as np\n",
    "import healpy as hp\n",
    "import matplotlib.pyplot as plt\n",
    "\n",
    "# Import the NaMaster python wrapper\n",
    "import pymaster as nmt"
   ]
  },
  {
   "cell_type": "code",
   "execution_count": 3,
   "metadata": {
    "collapsed": true
   },
   "outputs": [],
   "source": [
    "# We'll run this many simulations\n",
    "nsim = 10"
   ]
  },
  {
   "cell_type": "code",
   "execution_count": 4,
   "metadata": {
    "collapsed": true
   },
   "outputs": [],
   "source": [
    "# HEALPix map resolution\n",
    "nside = 256"
   ]
  },
  {
   "cell_type": "code",
   "execution_count": 5,
   "metadata": {
    "collapsed": true
   },
   "outputs": [],
   "source": [
    "# Let us first create a square mask:\n",
    "msk = np.zeros(hp.nside2npix(nside))\n",
    "th, ph = hp.pix2ang(nside, np.arange(hp.nside2npix(nside)))\n",
    "ph[np.where(ph>np.pi)[0]] -= 2. * np.pi\n",
    "msk[np.where(\n",
    "    np.logical_and.reduce((\n",
    "        (th < 2.63),\n",
    "        (th > 1.86),\n",
    "        (ph > -np.pi / 4.),\n",
    "        (ph < np.pi / 4))[0]))] = 1."
   ]
  },
  {
   "cell_type": "markdown",
   "metadata": {},
   "source": [
    "Now we apodize the mask. The pure-B formalism requires the mask to be differentiable along the edges. The `C1` and `C2` apodization types supported by mask_apodization achieve this."
   ]
  },
  {
   "cell_type": "code",
   "execution_count": 6,
   "metadata": {
    "collapsed": true
   },
   "outputs": [],
   "source": [
    "msk_apo = nmt.mask_apodization(msk, 10.0, apotype='C1')"
   ]
  },
  {
   "cell_type": "code",
   "execution_count": 7,
   "metadata": {
    "collapsed": true
   },
   "outputs": [],
   "source": [
    "# Select a binning scheme\n",
    "b = nmt.NmtBin(nside, nlb=16)\n",
    "leff = b.get_effective_ells()"
   ]
  },
  {
   "cell_type": "code",
   "execution_count": 8,
   "metadata": {
    "collapsed": true
   },
   "outputs": [],
   "source": [
    "# Read power spectrum and provide function to generate simulated skies\n",
    "l, cltt, clee, clbb, clte = np.loadtxt('../test/cls.txt', unpack=True)"
   ]
  },
  {
   "cell_type": "code",
   "execution_count": 9,
   "metadata": {
    "collapsed": true
   },
   "outputs": [],
   "source": [
    "def get_fields() :\n",
    "    mp_t, mp_q, mp_u = hp.synfast(\n",
    "        [cltt, clee, clbb, clte],\n",
    "        nside=nside,\n",
    "        new=True,\n",
    "        verbose=False)\n",
    "    # This creates a spin-2 field without purifying either E or B\n",
    "    f2_np = nmt.NmtField(msk_apo, [mp_q, mp_u])\n",
    "    # This creates a spin-2 field with both pure E and B.\n",
    "    f2_yp = nmt.NmtField(msk_apo, [mp_q, mp_u], purify_e=True, purify_b=True)\n",
    "    # Note that generally it's not a good idea to purify both, since you'll lose sensitivity on E\n",
    "    return f2_np, f2_yp"
   ]
  },
  {
   "cell_type": "code",
   "execution_count": 11,
   "metadata": {
    "collapsed": true
   },
   "outputs": [],
   "source": [
    "# We initialize two workspaces for the non-pure and pure fields:\n",
    "f2np0, f2yp0 = get_fields()"
   ]
  },
  {
   "cell_type": "code",
   "execution_count": 12,
   "metadata": {
    "collapsed": true
   },
   "outputs": [],
   "source": [
    "w_np = nmt.NmtWorkspace()\n",
    "w_np.compute_coupling_matrix(f2np0, f2np0, b)"
   ]
  },
  {
   "cell_type": "code",
   "execution_count": 12,
   "metadata": {
    "collapsed": true
   },
   "outputs": [],
   "source": [
    "w_yp = nmt.NmtWorkspace()\n",
    "w_yp.compute_coupling_matrix(f2yp0, f2yp0, b)"
   ]
  },
  {
   "cell_type": "markdown",
   "metadata": {},
   "source": [
    "This wraps up the two steps needed to compute the power spectrum once the workspace has been initialized."
   ]
  },
  {
   "cell_type": "code",
   "execution_count": null,
   "metadata": {
    "collapsed": true
   },
   "outputs": [],
   "source": [
    "def compute_master(f_a, f_b,wsp):\n",
    "    cl_coupled = nmt.compute_coupled_cell(f_a, f_b)\n",
    "    cl_decoupled = wsp.decouple_cell(cl_coupled)\n",
    "    return cl_decoupled"
   ]
  },
  {
   "cell_type": "code",
   "execution_count": null,
   "metadata": {},
   "outputs": [
    {
     "name": "stdout",
     "output_type": "stream",
     "text": [
      "0 10\n"
     ]
    }
   ],
   "source": [
    "# We now iterate over several simulations, computing the power spectrum for each of them\n",
    "data_np = []\n",
    "data_yp = []\n",
    "\n",
    "for i in np.arange(nsim):\n",
    "    print(i, nsim)\n",
    "    fnp, fyp = get_fields()\n",
    "    data_np.append(compute_master(fnp, fnp, w_np))\n",
    "    data_yp.append(compute_master(fyp, fyp, w_yp))"
   ]
  },
  {
   "cell_type": "code",
   "execution_count": null,
   "metadata": {
    "collapsed": true
   },
   "outputs": [],
   "source": [
    "data_np = np.array(data_np)\n",
    "data_yp = np.array(data_yp)"
   ]
  },
  {
   "cell_type": "code",
   "execution_count": null,
   "metadata": {
    "collapsed": true
   },
   "outputs": [],
   "source": [
    "clnp_mean = np.mean(data_np, axis=0)\n",
    "clnp_std = np.std(data_np, axis=0)"
   ]
  },
  {
   "cell_type": "code",
   "execution_count": null,
   "metadata": {
    "collapsed": true
   },
   "outputs": [],
   "source": [
    "clyp_mean = np.mean(data_yp, axis=0)\n",
    "clyp_std = np.std(data_yp, axis=0)"
   ]
  },
  {
   "cell_type": "code",
   "execution_count": null,
   "metadata": {
    "collapsed": true
   },
   "outputs": [],
   "source": [
    "# Now we plot the results\n",
    "plt.figure()\n",
    "plt.title('$BB$ error', fontsize=18)\n",
    "plt.plot(leff, clnp_std[3], 'r-', lw=2, label='Standard pseudo-$C_\\\\ell$')\n",
    "plt.plot(leff, clyp_std[3], 'b-', lw=2, label='Pure-$B$ estimator')\n",
    "plt.loglog()\n",
    "\n",
    "# labels & limits\n",
    "plt.xlim([2, 512])\n",
    "\n",
    "plt.xlabel('$\\\\ell$', fontsize=18)\n",
    "plt.ylabel('$\\\\sigma(C_\\\\ell)$', fontsize=18)\n",
    "\n",
    "plt.legend(loc='upper right', frameon=False);"
   ]
  }
 ],
 "metadata": {
  "kernelspec": {
   "display_name": "Python 2",
   "language": "python",
   "name": "python2"
  },
  "language_info": {
   "codemirror_mode": {
    "name": "ipython",
    "version": 2
   },
   "file_extension": ".py",
   "mimetype": "text/x-python",
   "name": "python",
   "nbconvert_exporter": "python",
   "pygments_lexer": "ipython2",
   "version": "2.7.13"
  },
  "toc": {
   "colors": {
    "hover_highlight": "#DAA520",
    "navigate_num": "#000000",
    "navigate_text": "#333333",
    "running_highlight": "#FF0000",
    "selected_highlight": "#FFD700",
    "sidebar_border": "#EEEEEE",
    "wrapper_background": "#FFFFFF"
   },
   "moveMenuLeft": true,
   "nav_menu": {
    "height": "12px",
    "width": "252px"
   },
   "navigate_menu": true,
   "number_sections": true,
   "sideBar": true,
   "threshold": 4,
   "toc_cell": false,
   "toc_section_display": "block",
   "toc_window_display": false,
   "widenNotebook": false
  }
 },
 "nbformat": 4,
 "nbformat_minor": 2
}
