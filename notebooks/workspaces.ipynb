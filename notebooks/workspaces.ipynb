{
 "cells": [
  {
   "cell_type": "markdown",
   "metadata": {},
   "source": [
    "This sample script showcases the use of the `NmtWorkspace()` class to speed up the computation of multiple power spectra with the same mask.\n",
    "\n",
    "This is the most general example in this suite, showing also the correct way to compare the results of the MASTER estimator with the theory power spectrum."
   ]
  },
  {
   "cell_type": "code",
   "execution_count": 1,
   "metadata": {},
   "outputs": [],
   "source": [
    "%load_ext autoreload\n",
    "%autoreload 2\n",
    "%matplotlib inline\n",
    "%config InlineBackend.figure_format = 'retina'"
   ]
  },
  {
   "cell_type": "code",
   "execution_count": 2,
   "metadata": {
    "collapsed": true
   },
   "outputs": [],
   "source": [
    "from __future__ import print_function\n",
    "from __future__ import division\n",
    "\n",
    "import numpy as np\n",
    "import healpy as hp\n",
    "import matplotlib.pyplot as plt\n",
    "\n",
    "# Import the NaMaster python wrapper\n",
    "import pymaster as nmt"
   ]
  },
  {
   "cell_type": "code",
   "execution_count": 3,
   "metadata": {
    "collapsed": true
   },
   "outputs": [],
   "source": [
    "# HEALPix map resolution\n",
    "nside = 256"
   ]
  },
  {
   "cell_type": "markdown",
   "metadata": {},
   "source": [
    "We start by creating some synthetic masks and maps with contaminants. Here we will focus on the cross-correlation of a spin-2 and a spin-1 field."
   ]
  },
  {
   "cell_type": "code",
   "execution_count": 4,
   "metadata": {
    "collapsed": true
   },
   "outputs": [],
   "source": [
    "# a) Read and apodize mask\n",
    "mask = nmt.mask_apodization(\n",
    "    hp.read_map(\"../test/mask.fits\", verbose=False),\n",
    "    1.,\n",
    "    apotype=\"Smooth\")"
   ]
  },
  {
   "cell_type": "code",
   "execution_count": 5,
   "metadata": {
    "collapsed": true
   },
   "outputs": [],
   "source": [
    "# b) Read maps\n",
    "mp_t, mp_q, mp_u = hp.read_map(\"../test/maps.fits\", field=[0, 1, 2], verbose=False)"
   ]
  },
  {
   "cell_type": "code",
   "execution_count": 6,
   "metadata": {
    "collapsed": true
   },
   "outputs": [],
   "source": [
    "# c) Read contaminants maps\n",
    "tm_t, tm_q, tm_u = hp.read_map(\"../test/temp.fits\", field=[0, 1, 2], verbose=False)"
   ]
  },
  {
   "cell_type": "code",
   "execution_count": 7,
   "metadata": {
    "collapsed": true
   },
   "outputs": [],
   "source": [
    "# d) Create contaminated fields\n",
    "#   Spin-0\n",
    "f0 = nmt.NmtField(mask, [mp_t + tm_t], templates=[[tm_t]])\n",
    "#   Spin-2\n",
    "f2 = nmt.NmtField(mask, [mp_q + tm_q, mp_u + tm_u], templates=[[tm_q,tm_u]])"
   ]
  },
  {
   "cell_type": "code",
   "execution_count": 8,
   "metadata": {
    "collapsed": true
   },
   "outputs": [],
   "source": [
    "# e) Create binning scheme. We will use 20 multipoles per bandpower.\n",
    "b = nmt.NmtBin(nside, nlb=20)"
   ]
  },
  {
   "cell_type": "code",
   "execution_count": 9,
   "metadata": {
    "collapsed": true
   },
   "outputs": [],
   "source": [
    "# f) Finally, we read our best guess for the true power spectrum. We will\n",
    "#   use this to:\n",
    "#   i)  Compute the bias to the power spectrum from contaminant cleaning\n",
    "#   ii) Generate random realizations of our fields to compute the errors\n",
    "l, cltt, clee, clbb, clte = np.loadtxt(\"../test/cls.txt\",unpack=True)\n",
    "cl_02_th = np.array([clte, np.zeros_like(clte)])"
   ]
  },
  {
   "cell_type": "markdown",
   "metadata": {},
   "source": [
    "We then generate an `NmtWorkspace()` object that we use to compute and store the mode coupling matrix.\n",
    "\n",
    "Note that this matrix depends only on the masks of the two fields to correlate, but not on the maps themselves (in this case both maps are the same)."
   ]
  },
  {
   "cell_type": "code",
   "execution_count": 10,
   "metadata": {
    "collapsed": true
   },
   "outputs": [],
   "source": [
    "w = nmt.NmtWorkspace()\n",
    "w.compute_coupling_matrix(f0, f2, b)"
   ]
  },
  {
   "cell_type": "markdown",
   "metadata": {},
   "source": [
    "Since we suspect that our maps are contaminated (that's why we passed the contaminant templates as arguments to the `NmtField` constructor), we also need to compute the bias to the power spectrum caused by contaminant cleaning (deprojection bias)."
   ]
  },
  {
   "cell_type": "code",
   "execution_count": 11,
   "metadata": {
    "collapsed": true
   },
   "outputs": [],
   "source": [
    "cl_bias = nmt.deprojection_bias(f0, f2, cl_02_th)"
   ]
  },
  {
   "cell_type": "markdown",
   "metadata": {},
   "source": [
    "The function defined below will compute the power spectrum between two `NmtFields` `f_a` and `f_b`, using the coupling matrix stored in the NmtWorkspace wsp and subtracting the deprojection bias clb.\n",
    "\n",
    "Note that the most expensive operations in the MASTER algorithm are the computation of the coupling matrix and the deprojection bias. Since these two objects are precomputed, this function should be pretty fast!"
   ]
  },
  {
   "cell_type": "code",
   "execution_count": 12,
   "metadata": {
    "collapsed": true
   },
   "outputs": [],
   "source": [
    "def compute_master(f_a, f_b, wsp, clb) :\n",
    "    \"\"\"\n",
    "    Compute the power spectrum (a la anafast) of the masked fields\n",
    "    Note that we only use n_iter=0 here to speed up the computation,\n",
    "    but the default value of 3 is recommended in general.\n",
    "    \"\"\"\n",
    "    cl_coupled = nmt.compute_coupled_cell(f_a, f_b, n_iter=0)\n",
    "    # Decouple power spectrum into bandpowers inverting the coupling matrix\n",
    "    cl_decoupled = wsp.decouple_cell(cl_coupled, cl_bias=clb)\n",
    "\n",
    "    return cl_decoupled"
   ]
  },
  {
   "cell_type": "code",
   "execution_count": 13,
   "metadata": {},
   "outputs": [
    {
     "name": "stderr",
     "output_type": "stream",
     "text": [
      "/Users/dlenz/anaconda/envs/py27/lib/python2.7/site-packages/pymaster/workspaces.py:70: FutureWarning: comparison to `None` will result in an elementwise object comparison in the future.\n",
      "  if cl_bias!=None :\n"
     ]
    }
   ],
   "source": [
    "# OK, we can now compute the power spectrum of our two input fields\n",
    "cl_master = compute_master(f0, f2, w, cl_bias)"
   ]
  },
  {
   "cell_type": "markdown",
   "metadata": {},
   "source": [
    "Let's now compute the errors on this estimator using 100 Gaussian random simulations. In a realistic scenario you'd want to compute the full covariance matrix, but let's keep things simple."
   ]
  },
  {
   "cell_type": "code",
   "execution_count": 14,
   "metadata": {},
   "outputs": [
    {
     "name": "stdout",
     "output_type": "stream",
     "text": [
      "0-th simulation\n",
      "1-th simulation\n",
      "2-th simulation\n",
      "3-th simulation\n",
      "4-th simulation\n",
      "5-th simulation\n",
      "6-th simulation\n",
      "7-th simulation\n",
      "8-th simulation\n",
      "9-th simulation\n",
      "10-th simulation\n",
      "11-th simulation\n",
      "12-th simulation\n",
      "13-th simulation\n",
      "14-th simulation\n",
      "15-th simulation\n",
      "16-th simulation\n",
      "17-th simulation\n",
      "18-th simulation\n",
      "19-th simulation\n",
      "20-th simulation\n",
      "21-th simulation\n",
      "22-th simulation\n",
      "23-th simulation\n",
      "24-th simulation\n",
      "25-th simulation\n",
      "26-th simulation\n",
      "27-th simulation\n",
      "28-th simulation\n",
      "29-th simulation\n",
      "30-th simulation\n",
      "31-th simulation\n",
      "32-th simulation\n",
      "33-th simulation\n",
      "34-th simulation\n",
      "35-th simulation\n",
      "36-th simulation\n",
      "37-th simulation\n",
      "38-th simulation\n",
      "39-th simulation\n",
      "40-th simulation\n",
      "41-th simulation\n",
      "42-th simulation\n",
      "43-th simulation\n",
      "44-th simulation\n",
      "45-th simulation\n",
      "46-th simulation\n",
      "47-th simulation\n",
      "48-th simulation\n",
      "49-th simulation\n",
      "50-th simulation\n",
      "51-th simulation\n",
      "52-th simulation\n",
      "53-th simulation\n",
      "54-th simulation\n",
      "55-th simulation\n",
      "56-th simulation\n",
      "57-th simulation\n",
      "58-th simulation\n",
      "59-th simulation\n",
      "60-th simulation\n",
      "61-th simulation\n",
      "62-th simulation\n",
      "63-th simulation\n",
      "64-th simulation\n",
      "65-th simulation\n",
      "66-th simulation\n",
      "67-th simulation\n",
      "68-th simulation\n",
      "69-th simulation\n",
      "70-th simulation\n",
      "71-th simulation\n",
      "72-th simulation\n",
      "73-th simulation\n",
      "74-th simulation\n",
      "75-th simulation\n",
      "76-th simulation\n",
      "77-th simulation\n",
      "78-th simulation\n",
      "79-th simulation\n",
      "80-th simulation\n",
      "81-th simulation\n",
      "82-th simulation\n",
      "83-th simulation\n",
      "84-th simulation\n",
      "85-th simulation\n",
      "86-th simulation\n",
      "87-th simulation\n",
      "88-th simulation\n",
      "89-th simulation\n",
      "90-th simulation\n",
      "91-th simulation\n",
      "92-th simulation\n",
      "93-th simulation\n",
      "94-th simulation\n",
      "95-th simulation\n",
      "96-th simulation\n",
      "97-th simulation\n",
      "98-th simulation\n",
      "99-th simulation\n"
     ]
    }
   ],
   "source": [
    "nsim=100\n",
    "cl_mean =np.zeros_like(cl_master)\n",
    "cl_std = np.zeros_like(cl_master)\n",
    "for i in np.arange(nsim):\n",
    "    print(\"{}-th simulation\".format(i))\n",
    "    t, q, u = hp.synfast([cltt, clee, clbb, clte], nside, verbose=False)\n",
    "    f0_sim = nmt.NmtField(mask, [t], templates=[[tm_t]])\n",
    "    f2_sim = nmt.NmtField(mask, [q, u], templates=[[tm_q, tm_u]])\n",
    "    cl = compute_master(f0_sim, f2_sim, w, cl_bias)\n",
    "    cl_mean += cl\n",
    "    cl_std += cl * cl\n",
    "\n",
    "cl_mean /= nsim\n",
    "cl_std = np.sqrt(cl_std / nsim - cl_mean * cl_mean)"
   ]
  },
  {
   "cell_type": "markdown",
   "metadata": {},
   "source": [
    "One final thing needs to be done before we can compare the result with the theory. The theory power spectrum must be binned into bandpowers in the same manner the data has. This is straightforward to do using just two nested function calls."
   ]
  },
  {
   "cell_type": "code",
   "execution_count": 15,
   "metadata": {
    "collapsed": true
   },
   "outputs": [],
   "source": [
    "cl_02_th_binned = w.decouple_cell(w.couple_cell(cl_02_th))"
   ]
  },
  {
   "cell_type": "code",
   "execution_count": 16,
   "metadata": {},
   "outputs": [
    {
     "data": {
      "image/png": "[encoded data removed]",
      "text/plain": [
       "<matplotlib.figure.Figure at 0x103f33cd0>"
      ]
     },
     "metadata": {
      "image/png": {
       "height": 271,
       "width": 408
      }
     },
     "output_type": "display_data"
    }
   ],
   "source": [
    "# Now let's plot the result!\n",
    "plt.plot(b.get_effective_ells(), cl_02_th_binned[0], 'r-', label='True power spectrum')\n",
    "plt.plot(b.get_effective_ells(), cl_02_th_binned[1], 'g-')\n",
    "\n",
    "plt.errorbar(b.get_effective_ells(), cl_master[0], yerr=cl_std[0],\n",
    "             fmt='ro', label='MASTER estimate (TE)')\n",
    "plt.errorbar(b.get_effective_ells(), cl_master[1], yerr=cl_std[1],\n",
    "             fmt='bo', label='MASTER estimate (TB)')\n",
    "\n",
    "# limits & labels\n",
    "plt.ylim([-0.03, 0.03])\n",
    "plt.legend(loc='upper right')\n",
    "plt.xlabel('$\\\\ell$',fontsize=16)\n",
    "plt.ylabel('$C_\\\\ell$',fontsize=16);"
   ]
  }
 ],
 "metadata": {
  "kernelspec": {
   "display_name": "Python 2",
   "language": "python",
   "name": "python2"
  },
  "language_info": {
   "codemirror_mode": {
    "name": "ipython",
    "version": 2
   },
   "file_extension": ".py",
   "mimetype": "text/x-python",
   "name": "python",
   "nbconvert_exporter": "python",
   "pygments_lexer": "ipython2",
   "version": "2.7.13"
  },
  "toc": {
   "colors": {
    "hover_highlight": "#DAA520",
    "navigate_num": "#000000",
    "navigate_text": "#333333",
    "running_highlight": "#FF0000",
    "selected_highlight": "#FFD700",
    "sidebar_border": "#EEEEEE",
    "wrapper_background": "#FFFFFF"
   },
   "moveMenuLeft": true,
   "nav_menu": {
    "height": "12px",
    "width": "252px"
   },
   "navigate_menu": true,
   "number_sections": true,
   "sideBar": true,
   "threshold": 4,
   "toc_cell": false,
   "toc_section_display": "block",
   "toc_window_display": false,
   "widenNotebook": false
  }
 },
 "nbformat": 4,
 "nbformat_minor": 2
}
